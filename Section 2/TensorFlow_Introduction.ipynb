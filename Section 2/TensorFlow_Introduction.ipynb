{
 "cells": [
  {
   "cell_type": "markdown",
   "metadata": {
    "id": "wJ6s9hH5gsvW"
   },
   "source": [
    "## TensorFlow 2.0"
   ]
  },
  {
   "cell_type": "markdown",
   "metadata": {
    "id": "lq3GfvGA_2v4"
   },
   "source": [
    "| Constant | Variable |\n",
    "| --- | ---|\n",
    "| unchangeable | changeable |\n"
   ]
  },
  {
   "cell_type": "markdown",
   "metadata": {
    "id": "Zl7ADLJ_g38A"
   },
   "source": [
    "### Installing TensorFlow 2.0"
   ]
  },
  {
   "cell_type": "code",
   "execution_count": 1,
   "metadata": {
    "executionInfo": {
     "elapsed": 3051,
     "status": "ok",
     "timestamp": 1671267448175,
     "user": {
      "displayName": "최세훈",
      "userId": "00148754616075165078"
     },
     "user_tz": -540
    },
    "id": "ZsQVt3TghDWN"
   },
   "outputs": [],
   "source": [
    "import tensorflow as tf\n",
    "import numpy as np"
   ]
  },
  {
   "cell_type": "code",
   "execution_count": 2,
   "metadata": {
    "colab": {
     "base_uri": "https://localhost:8080/",
     "height": 35
    },
    "executionInfo": {
     "elapsed": 25,
     "status": "ok",
     "timestamp": 1671267448176,
     "user": {
      "displayName": "최세훈",
      "userId": "00148754616075165078"
     },
     "user_tz": -540
    },
    "id": "bjZ7TmxNh3FE",
    "outputId": "5310c759-1b96-471a-cc64-d7195050123c"
   },
   "outputs": [
    {
     "data": {
      "text/plain": [
       "'2.11.0'"
      ]
     },
     "execution_count": 2,
     "metadata": {},
     "output_type": "execute_result"
    }
   ],
   "source": [
    "tf.__version__"
   ]
  },
  {
   "cell_type": "markdown",
   "metadata": {
    "id": "L3jqjCppiB0x"
   },
   "source": [
    "### Constants"
   ]
  },
  {
   "cell_type": "markdown",
   "metadata": {
    "id": "F58hfumftBPK"
   },
   "source": [
    "#### Defining a constant"
   ]
  },
  {
   "cell_type": "code",
   "execution_count": 3,
   "metadata": {
    "executionInfo": {
     "elapsed": 23,
     "status": "ok",
     "timestamp": 1671267448176,
     "user": {
      "displayName": "최세훈",
      "userId": "00148754616075165078"
     },
     "user_tz": -540
    },
    "id": "EL_NS0EDh4U2"
   },
   "outputs": [],
   "source": [
    "# Defining a constant in TensorFlow 2.0\n",
    "tensor_20 = tf.constant([[23, 4], [32, 51]])"
   ]
  },
  {
   "cell_type": "code",
   "execution_count": 4,
   "metadata": {
    "colab": {
     "base_uri": "https://localhost:8080/"
    },
    "executionInfo": {
     "elapsed": 23,
     "status": "ok",
     "timestamp": 1671267448176,
     "user": {
      "displayName": "최세훈",
      "userId": "00148754616075165078"
     },
     "user_tz": -540
    },
    "id": "zu1SK9N-iLj-",
    "outputId": "d60b5b24-5627-42b7-b8ab-138e5bafacbb"
   },
   "outputs": [
    {
     "data": {
      "text/plain": [
       "<tf.Tensor: shape=(2, 2), dtype=int32, numpy=\n",
       "array([[23,  4],\n",
       "       [32, 51]], dtype=int32)>"
      ]
     },
     "execution_count": 4,
     "metadata": {},
     "output_type": "execute_result"
    }
   ],
   "source": [
    "tensor_20"
   ]
  },
  {
   "cell_type": "code",
   "execution_count": 5,
   "metadata": {
    "colab": {
     "base_uri": "https://localhost:8080/"
    },
    "executionInfo": {
     "elapsed": 21,
     "status": "ok",
     "timestamp": 1671267448176,
     "user": {
      "displayName": "최세훈",
      "userId": "00148754616075165078"
     },
     "user_tz": -540
    },
    "id": "Pi1hQ7VYiNoP",
    "outputId": "fad46ded-e00e-4cfa-e0ae-582806a0da38"
   },
   "outputs": [
    {
     "data": {
      "text/plain": [
       "TensorShape([2, 2])"
      ]
     },
     "execution_count": 5,
     "metadata": {},
     "output_type": "execute_result"
    }
   ],
   "source": [
    "# Getting the shape of a tensor\n",
    "tensor_20.shape"
   ]
  },
  {
   "cell_type": "markdown",
   "metadata": {
    "id": "KfR8I7EOituB"
   },
   "source": [
    "#### Getting the values of a constant"
   ]
  },
  {
   "cell_type": "code",
   "execution_count": 6,
   "metadata": {
    "colab": {
     "base_uri": "https://localhost:8080/"
    },
    "executionInfo": {
     "elapsed": 20,
     "status": "ok",
     "timestamp": 1671267448176,
     "user": {
      "displayName": "최세훈",
      "userId": "00148754616075165078"
     },
     "user_tz": -540
    },
    "id": "C1mt_C-7iV3l",
    "outputId": "d28fa0ea-fb60-4d8d-c6a0-e9c15718e726"
   },
   "outputs": [
    {
     "data": {
      "text/plain": [
       "array([[23,  4],\n",
       "       [32, 51]], dtype=int32)"
      ]
     },
     "execution_count": 6,
     "metadata": {},
     "output_type": "execute_result"
    }
   ],
   "source": [
    "# Getting the values straight from a TensorFlow constant with numpy, and without the need of a session\n",
    "tensor_20.numpy()"
   ]
  },
  {
   "cell_type": "code",
   "execution_count": 7,
   "metadata": {
    "executionInfo": {
     "elapsed": 20,
     "status": "ok",
     "timestamp": 1671267448177,
     "user": {
      "displayName": "최세훈",
      "userId": "00148754616075165078"
     },
     "user_tz": -540
    },
    "id": "4yu4Rvo2igb2"
   },
   "outputs": [],
   "source": [
    "# We are able to convert a numpy array back to a TensorFlow tensor as well\n",
    "numpy_tensor = np.array([[23,  4], [32, 51]])"
   ]
  },
  {
   "cell_type": "code",
   "execution_count": 8,
   "metadata": {
    "executionInfo": {
     "elapsed": 19,
     "status": "ok",
     "timestamp": 1671267448177,
     "user": {
      "displayName": "최세훈",
      "userId": "00148754616075165078"
     },
     "user_tz": -540
    },
    "id": "3uLZ7XAYjOO2"
   },
   "outputs": [],
   "source": [
    "tensor_from_numpy = tf.constant(numpy_tensor)"
   ]
  },
  {
   "cell_type": "code",
   "execution_count": 9,
   "metadata": {
    "colab": {
     "base_uri": "https://localhost:8080/"
    },
    "executionInfo": {
     "elapsed": 19,
     "status": "ok",
     "timestamp": 1671267448177,
     "user": {
      "displayName": "최세훈",
      "userId": "00148754616075165078"
     },
     "user_tz": -540
    },
    "id": "ltsz-6FrjWDE",
    "outputId": "a7eaacbe-c4a0-4d4f-b10c-1cafca6b81d3"
   },
   "outputs": [
    {
     "data": {
      "text/plain": [
       "<tf.Tensor: shape=(2, 2), dtype=int64, numpy=\n",
       "array([[23,  4],\n",
       "       [32, 51]])>"
      ]
     },
     "execution_count": 9,
     "metadata": {},
     "output_type": "execute_result"
    }
   ],
   "source": [
    "tensor_from_numpy"
   ]
  },
  {
   "cell_type": "markdown",
   "metadata": {
    "id": "uq-atYpaV2mB"
   },
   "source": [
    "### Variables"
   ]
  },
  {
   "cell_type": "markdown",
   "metadata": {
    "id": "SzoCDLwlt8V-"
   },
   "source": [
    "#### Defining a variable"
   ]
  },
  {
   "cell_type": "code",
   "execution_count": 10,
   "metadata": {
    "colab": {
     "base_uri": "https://localhost:8080/"
    },
    "executionInfo": {
     "elapsed": 18,
     "status": "ok",
     "timestamp": 1671267448177,
     "user": {
      "displayName": "최세훈",
      "userId": "00148754616075165078"
     },
     "user_tz": -540
    },
    "id": "INUlB5zoIB90",
    "outputId": "4bf9d991-6612-4130-ba92-685db9d9cdc6"
   },
   "outputs": [
    {
     "data": {
      "text/plain": [
       "<tf.Variable 'Variable:0' shape=(2, 3) dtype=float32, numpy=\n",
       "array([[1., 2., 3.],\n",
       "       [4., 5., 6.]], dtype=float32)>"
      ]
     },
     "execution_count": 10,
     "metadata": {},
     "output_type": "execute_result"
    }
   ],
   "source": [
    "tf2_variable = tf.Variable([[1., 2., 3.], [4., 5., 6.]])\n",
    "tf2_variable"
   ]
  },
  {
   "cell_type": "markdown",
   "metadata": {
    "id": "Oqi-QOsMWo7F"
   },
   "source": [
    "#### Getting the values of a variable"
   ]
  },
  {
   "cell_type": "code",
   "execution_count": 11,
   "metadata": {
    "colab": {
     "base_uri": "https://localhost:8080/"
    },
    "executionInfo": {
     "elapsed": 18,
     "status": "ok",
     "timestamp": 1671267448178,
     "user": {
      "displayName": "최세훈",
      "userId": "00148754616075165078"
     },
     "user_tz": -540
    },
    "id": "pCQr70r1IhLF",
    "outputId": "d936273c-f3f1-4ef6-b9e5-1ff410880593"
   },
   "outputs": [
    {
     "data": {
      "text/plain": [
       "array([[1., 2., 3.],\n",
       "       [4., 5., 6.]], dtype=float32)"
      ]
     },
     "execution_count": 11,
     "metadata": {},
     "output_type": "execute_result"
    }
   ],
   "source": [
    "tf2_variable.numpy()"
   ]
  },
  {
   "cell_type": "markdown",
   "metadata": {
    "id": "Ka8Tpnk_WvET"
   },
   "source": [
    "#### Changing a specific value in the variable"
   ]
  },
  {
   "cell_type": "code",
   "execution_count": 12,
   "metadata": {
    "colab": {
     "base_uri": "https://localhost:8080/"
    },
    "executionInfo": {
     "elapsed": 18,
     "status": "ok",
     "timestamp": 1671267448178,
     "user": {
      "displayName": "최세훈",
      "userId": "00148754616075165078"
     },
     "user_tz": -540
    },
    "id": "23OsvfbXWtel",
    "outputId": "c4b72f69-c020-447c-ec0f-0a65fc371ca7"
   },
   "outputs": [
    {
     "data": {
      "text/plain": [
       "<tf.Variable 'UnreadVariable' shape=(2, 3) dtype=float32, numpy=\n",
       "array([[  1.,   2., 100.],\n",
       "       [  4.,   5.,   6.]], dtype=float32)>"
      ]
     },
     "execution_count": 12,
     "metadata": {},
     "output_type": "execute_result"
    }
   ],
   "source": [
    "tf2_variable[0, 2].assign(100)"
   ]
  },
  {
   "cell_type": "code",
   "execution_count": 13,
   "metadata": {
    "colab": {
     "base_uri": "https://localhost:8080/"
    },
    "executionInfo": {
     "elapsed": 17,
     "status": "ok",
     "timestamp": 1671267448178,
     "user": {
      "displayName": "최세훈",
      "userId": "00148754616075165078"
     },
     "user_tz": -540
    },
    "id": "cSj0YvJkXZu8",
    "outputId": "62a68bd9-96fd-4746-881a-b420bf3b6964"
   },
   "outputs": [
    {
     "data": {
      "text/plain": [
       "<tf.Variable 'Variable:0' shape=(2, 3) dtype=float32, numpy=\n",
       "array([[  1.,   2., 100.],\n",
       "       [  4.,   5.,   6.]], dtype=float32)>"
      ]
     },
     "execution_count": 13,
     "metadata": {},
     "output_type": "execute_result"
    }
   ],
   "source": [
    "tf2_variable"
   ]
  },
  {
   "cell_type": "markdown",
   "metadata": {
    "id": "QdbG1kvXD2O-"
   },
   "source": [
    "### Operations with tensors"
   ]
  },
  {
   "cell_type": "code",
   "execution_count": 14,
   "metadata": {
    "colab": {
     "base_uri": "https://localhost:8080/"
    },
    "executionInfo": {
     "elapsed": 17,
     "status": "ok",
     "timestamp": 1671267448179,
     "user": {
      "displayName": "최세훈",
      "userId": "00148754616075165078"
     },
     "user_tz": -540
    },
    "id": "M8TE6VvuFDXd",
    "outputId": "9e833bed-751f-45d5-dba0-a648251d837f"
   },
   "outputs": [
    {
     "data": {
      "text/plain": [
       "<tf.Tensor: shape=(2, 2), dtype=int32, numpy=\n",
       "array([[1, 2],\n",
       "       [3, 4]], dtype=int32)>"
      ]
     },
     "execution_count": 14,
     "metadata": {},
     "output_type": "execute_result"
    }
   ],
   "source": [
    "tensor = tf.constant([[1, 2], [3, 4]])\n",
    "tensor"
   ]
  },
  {
   "cell_type": "markdown",
   "metadata": {
    "id": "9AelsMJIFYku"
   },
   "source": [
    "#### Addition between a scalar and a tensor"
   ]
  },
  {
   "cell_type": "code",
   "execution_count": 15,
   "metadata": {
    "colab": {
     "base_uri": "https://localhost:8080/"
    },
    "executionInfo": {
     "elapsed": 16,
     "status": "ok",
     "timestamp": 1671267448179,
     "user": {
      "displayName": "최세훈",
      "userId": "00148754616075165078"
     },
     "user_tz": -540
    },
    "id": "nBHn9DTVjW6s",
    "outputId": "775cfb2b-0582-4a43-ea99-7bebd8c9c899"
   },
   "outputs": [
    {
     "data": {
      "text/plain": [
       "<tf.Tensor: shape=(2, 2), dtype=int32, numpy=\n",
       "array([[3, 4],\n",
       "       [5, 6]], dtype=int32)>"
      ]
     },
     "execution_count": 15,
     "metadata": {},
     "output_type": "execute_result"
    }
   ],
   "source": [
    "tensor + 2"
   ]
  },
  {
   "cell_type": "markdown",
   "metadata": {
    "id": "oQY7rduwFfEC"
   },
   "source": [
    "#### Multiplication between a scalar and a tensor"
   ]
  },
  {
   "cell_type": "code",
   "execution_count": 16,
   "metadata": {
    "colab": {
     "base_uri": "https://localhost:8080/"
    },
    "executionInfo": {
     "elapsed": 12,
     "status": "ok",
     "timestamp": 1671267448179,
     "user": {
      "displayName": "최세훈",
      "userId": "00148754616075165078"
     },
     "user_tz": -540
    },
    "id": "WZkzLDnVFBZF",
    "outputId": "0328f902-b036-4a51-f5f4-1cab5a753934"
   },
   "outputs": [
    {
     "data": {
      "text/plain": [
       "<tf.Tensor: shape=(2, 2), dtype=int32, numpy=\n",
       "array([[ 5, 10],\n",
       "       [15, 20]], dtype=int32)>"
      ]
     },
     "execution_count": 16,
     "metadata": {},
     "output_type": "execute_result"
    }
   ],
   "source": [
    "tensor * 5"
   ]
  },
  {
   "cell_type": "markdown",
   "metadata": {
    "id": "0algGv7HFrUI"
   },
   "source": [
    "#### Using Numpy functions on TensorFlow tensors"
   ]
  },
  {
   "cell_type": "code",
   "execution_count": 17,
   "metadata": {
    "colab": {
     "base_uri": "https://localhost:8080/"
    },
    "executionInfo": {
     "elapsed": 11,
     "status": "ok",
     "timestamp": 1671267448179,
     "user": {
      "displayName": "최세훈",
      "userId": "00148754616075165078"
     },
     "user_tz": -540
    },
    "id": "zTeiyc6HFyIs",
    "outputId": "82311713-e34b-4c33-915c-cd13e153e80d"
   },
   "outputs": [
    {
     "data": {
      "text/plain": [
       "array([[ 1,  4],\n",
       "       [ 9, 16]], dtype=int32)"
      ]
     },
     "execution_count": 17,
     "metadata": {},
     "output_type": "execute_result"
    }
   ],
   "source": [
    "# Getting the squares of all numbers in a TensorFlow tensor object\n",
    "np.square(tensor)"
   ]
  },
  {
   "cell_type": "code",
   "execution_count": 18,
   "metadata": {
    "colab": {
     "base_uri": "https://localhost:8080/"
    },
    "executionInfo": {
     "elapsed": 11,
     "status": "ok",
     "timestamp": 1671267448180,
     "user": {
      "displayName": "최세훈",
      "userId": "00148754616075165078"
     },
     "user_tz": -540
    },
    "id": "zcR_Z_4vF2wG",
    "outputId": "aa6f379e-65fd-4e7e-e604-077cf482196b"
   },
   "outputs": [
    {
     "data": {
      "text/plain": [
       "array([[1.        , 1.41421356],\n",
       "       [1.73205081, 2.        ]])"
      ]
     },
     "execution_count": 18,
     "metadata": {},
     "output_type": "execute_result"
    }
   ],
   "source": [
    "# Getting the square root of all numbers in a tensorflow tensor object\n",
    "np.sqrt(tensor)"
   ]
  },
  {
   "cell_type": "markdown",
   "metadata": {
    "id": "UL--f1anIMRl"
   },
   "source": [
    "#### Dot product between two tensors"
   ]
  },
  {
   "cell_type": "code",
   "execution_count": 19,
   "metadata": {
    "colab": {
     "base_uri": "https://localhost:8080/"
    },
    "executionInfo": {
     "elapsed": 440,
     "status": "ok",
     "timestamp": 1671267448610,
     "user": {
      "displayName": "최세훈",
      "userId": "00148754616075165078"
     },
     "user_tz": -540
    },
    "id": "6DGgNB--F6Q1",
    "outputId": "98a48d51-48e0-407a-de5b-5de293ac6abc"
   },
   "outputs": [
    {
     "data": {
      "text/plain": [
       "array([[ 87, 106],\n",
       "       [197, 216]], dtype=int32)"
      ]
     },
     "execution_count": 19,
     "metadata": {},
     "output_type": "execute_result"
    }
   ],
   "source": [
    " np.dot(tensor, tensor_20)"
   ]
  },
  {
   "cell_type": "markdown",
   "metadata": {
    "id": "12dtWEKjXl7l"
   },
   "source": [
    "### Strings in TensorFlow 2.0"
   ]
  },
  {
   "cell_type": "code",
   "execution_count": 20,
   "metadata": {
    "colab": {
     "base_uri": "https://localhost:8080/"
    },
    "executionInfo": {
     "elapsed": 7,
     "status": "ok",
     "timestamp": 1671267448610,
     "user": {
      "displayName": "최세훈",
      "userId": "00148754616075165078"
     },
     "user_tz": -540
    },
    "id": "fXj_Be2bXgdj",
    "outputId": "b4b2fb84-c741-41a9-bd25-da9d625c9339"
   },
   "outputs": [
    {
     "data": {
      "text/plain": [
       "<tf.Tensor: shape=(), dtype=string, numpy=b'TensorFlow'>"
      ]
     },
     "execution_count": 20,
     "metadata": {},
     "output_type": "execute_result"
    }
   ],
   "source": [
    "tf_string = tf.constant(\"TensorFlow\")\n",
    "tf_string"
   ]
  },
  {
   "cell_type": "markdown",
   "metadata": {
    "id": "R9VXL59XYPDG"
   },
   "source": [
    "#### Simple string operations"
   ]
  },
  {
   "cell_type": "code",
   "execution_count": 21,
   "metadata": {
    "colab": {
     "base_uri": "https://localhost:8080/"
    },
    "executionInfo": {
     "elapsed": 7,
     "status": "ok",
     "timestamp": 1671267448611,
     "user": {
      "displayName": "최세훈",
      "userId": "00148754616075165078"
     },
     "user_tz": -540
    },
    "id": "_sIYqcC9YjoS",
    "outputId": "0d4dec4a-612c-4944-a38c-c8aebc4048a8"
   },
   "outputs": [
    {
     "data": {
      "text/plain": [
       "<tf.Tensor: shape=(), dtype=int32, numpy=10>"
      ]
     },
     "execution_count": 21,
     "metadata": {},
     "output_type": "execute_result"
    }
   ],
   "source": [
    "tf.strings.length(tf_string)"
   ]
  },
  {
   "cell_type": "code",
   "execution_count": 22,
   "metadata": {
    "colab": {
     "base_uri": "https://localhost:8080/"
    },
    "executionInfo": {
     "elapsed": 5,
     "status": "ok",
     "timestamp": 1671267448611,
     "user": {
      "displayName": "최세훈",
      "userId": "00148754616075165078"
     },
     "user_tz": -540
    },
    "id": "vxQRhILBYmiH",
    "outputId": "9b20d200-dcbf-4d7d-c425-3d4d73fe68b9"
   },
   "outputs": [
    {
     "data": {
      "text/plain": [
       "<tf.Tensor: shape=(10,), dtype=int32, numpy=array([ 84, 101, 110, 115, 111, 114,  70, 108, 111, 119], dtype=int32)>"
      ]
     },
     "execution_count": 22,
     "metadata": {},
     "output_type": "execute_result"
    }
   ],
   "source": [
    "tf.strings.unicode_decode(tf_string, \"UTF8\")"
   ]
  },
  {
   "cell_type": "markdown",
   "metadata": {
    "id": "tEjJCCK2ZUzT"
   },
   "source": [
    "#### Storing arrays of strings"
   ]
  },
  {
   "cell_type": "code",
   "execution_count": 23,
   "metadata": {
    "executionInfo": {
     "elapsed": 4,
     "status": "ok",
     "timestamp": 1671267448611,
     "user": {
      "displayName": "최세훈",
      "userId": "00148754616075165078"
     },
     "user_tz": -540
    },
    "id": "YHvHvS0DZakV"
   },
   "outputs": [],
   "source": [
    "tf_string_array = tf.constant([\"TensorFlow\", \"Deep Learning\", \"AI\"])"
   ]
  },
  {
   "cell_type": "code",
   "execution_count": 24,
   "metadata": {
    "colab": {
     "base_uri": "https://localhost:8080/"
    },
    "executionInfo": {
     "elapsed": 4,
     "status": "ok",
     "timestamp": 1671267448611,
     "user": {
      "displayName": "최세훈",
      "userId": "00148754616075165078"
     },
     "user_tz": -540
    },
    "id": "wyFS4E9uZh21",
    "outputId": "ee2558d8-5578-4514-9bae-fb66c5b74135"
   },
   "outputs": [
    {
     "name": "stdout",
     "output_type": "stream",
     "text": [
      "tf.Tensor(b'TensorFlow', shape=(), dtype=string)\n",
      "tf.Tensor(b'Deep Learning', shape=(), dtype=string)\n",
      "tf.Tensor(b'AI', shape=(), dtype=string)\n"
     ]
    }
   ],
   "source": [
    "# Iterating through the TF string array\n",
    "for string in tf_string_array:\n",
    "  print(string)"
   ]
  }
 ],
 "metadata": {
  "colab": {
   "provenance": [],
   "toc_visible": true
  },
  "kernelspec": {
   "display_name": "Python 3 (ipykernel)",
   "language": "python",
   "name": "python3"
  },
  "language_info": {
   "codemirror_mode": {
    "name": "ipython",
    "version": 3
   },
   "file_extension": ".py",
   "mimetype": "text/x-python",
   "name": "python",
   "nbconvert_exporter": "python",
   "pygments_lexer": "ipython3",
   "version": "3.9.15"
  }
 },
 "nbformat": 4,
 "nbformat_minor": 1
}
